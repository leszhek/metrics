{
 "cells": [
  {
   "cell_type": "markdown",
   "id": "4cac663d",
   "metadata": {},
   "source": [
    "## Базовые метрики классификации"
   ]
  },
  {
   "cell_type": "markdown",
   "id": "fa0d3460",
   "metadata": {},
   "source": [
    "Классифицировать будем вручную. Цель - посмотреть как считаются и что показывают метрики. Так же, попробуем написать свои функции для рассчета метрик.\n",
    "\n",
    "У нас будет 2 списка из 10 значений: \"истинный\" и \"предстказанный\":"
   ]
  },
  {
   "cell_type": "code",
   "execution_count": 1,
   "id": "98d46e07",
   "metadata": {},
   "outputs": [],
   "source": [
    "import numpy as np\n",
    "import pandas as pd"
   ]
  },
  {
   "cell_type": "code",
   "execution_count": 2,
   "id": "67eb12cd",
   "metadata": {},
   "outputs": [
    {
     "name": "stdout",
     "output_type": "stream",
     "text": [
      "true: [1 1 0 1 0 1 1 0 1 1]\n",
      "pred: [0 1 1 0 0 1 0 0 0 0]\n"
     ]
    }
   ],
   "source": [
    "np.random.seed(10)\n",
    "true = np.random.randint(0, 2, 10)\n",
    "pred = np.random.randint(0, 2, 10)\n",
    "\n",
    "print('true:', true)\n",
    "print('pred:', pred)"
   ]
  },
  {
   "cell_type": "markdown",
   "id": "d6fab509",
   "metadata": {},
   "source": [
    "### Confusion matrix"
   ]
  },
  {
   "cell_type": "code",
   "execution_count": 3,
   "id": "3f1e89bf",
   "metadata": {},
   "outputs": [],
   "source": [
    "from sklearn.metrics import confusion_matrix"
   ]
  },
  {
   "cell_type": "markdown",
   "id": "6a583b8b",
   "metadata": {},
   "source": [
    "Это, наверное, основная концепция, которую стоит понять, чтобы хорошо разбираться в метриках, построенных на отношении количества ответов. В примере у нас есть два класса и алгоритм (random 😀), предсказывающий принадлежность каждого объекта одному из классов. Как должна выглядеть матрица ошибок правильно, я не знаю до сих пор 😅, но, чтобы понимать, что стоит за матрицей, которая строится силами sklearn, буду показывать на примере расположения ее осей:"
   ]
  },
  {
   "cell_type": "markdown",
   "id": "85dc0581",
   "metadata": {},
   "source": [
    "![title](./images/01.png)\n",
    "\n",
    "Строки соответствуют предсказанным значениям (1 - Positive, 0 - Negative), столбцы - фактическим. В самих же клетках считается количество значений:\n",
    "\n",
    "- **TP** (TruePositive) - значения, по-факту являющиеся - **1**, предсказанные как **1**.\n",
    "- **FN** (FalseNegative) - значения, по-факту являющиеся - **1**, предсказанные как **0**.\n",
    "- **TN** (TrueNegative) - значения, по-факту являющиеся - **0**, предсказанные как **0**.\n",
    "- **FP** (FalsePositive) - значения, по-факту являющиеся - **0**, предсказанные как **1**.\n",
    "\n",
    "Таким образом, сумма по каждому столбцу отражает предсказанное количество классов, а сумма по каждой строке - фактическое."
   ]
  },
  {
   "cell_type": "markdown",
   "id": "e66102ef",
   "metadata": {},
   "source": [
    "Если мы сейчас соберем наши значения, то получим такую картину:\n",
    "\n",
    "![title](./images/02.png)\n",
    "\n",
    "Логика - простая:"
   ]
  },
  {
   "cell_type": "code",
   "execution_count": 4,
   "id": "e67d98eb",
   "metadata": {},
   "outputs": [
    {
     "name": "stdout",
     "output_type": "stream",
     "text": [
      "true: [1 1 0 1 0 1 1 0 1 1]\n",
      "pred: [0 1 1 0 0 1 0 0 0 0]\n"
     ]
    }
   ],
   "source": [
    "print('true:', true)\n",
    "print('pred:', pred)"
   ]
  },
  {
   "cell_type": "markdown",
   "id": "a0f7181a",
   "metadata": {},
   "source": [
    "- Первая пара: по факту - 1, предсказание - 0. **FN**\n",
    "- Вторая пара: по факту - 1, предсказание - 1. **TP**\n",
    "- Третья пара: по факту - 0, предсказание - 1. **FP**<br>\n",
    "...<br>\n",
    "- Пятая_ пара: по-факту - 0, предсказание - 0. **TN**\n",
    "\n",
    "Остальное можно разложить в клетки самостоятельно.\n",
    "\n",
    "Ну и, естественно, нет необходимости, каждый раз это все делать вручную. В бибилиотеке sklearn, как я писал выше, есть готовый метод: **confusion matrix**"
   ]
  },
  {
   "cell_type": "code",
   "execution_count": 5,
   "id": "19731c91",
   "metadata": {},
   "outputs": [
    {
     "data": {
      "text/plain": [
       "array([[2, 1],\n",
       "       [5, 2]])"
      ]
     },
     "execution_count": 5,
     "metadata": {},
     "output_type": "execute_result"
    }
   ],
   "source": [
    "confusion_matrix(true, pred)"
   ]
  },
  {
   "cell_type": "markdown",
   "id": "147d6ed2",
   "metadata": {},
   "source": [
    "Как видим, наша матрица и sklearn'овская - совпали. Теперь мы видим, что 5 единичек были приняты нашим алгоритмом за нули, и 1 ноль был принят за единичку. На этой базе и будем считать дальнейшие метрики."
   ]
  },
  {
   "cell_type": "markdown",
   "id": "7355d3c3",
   "metadata": {},
   "source": [
    "### Accuracy (доля верных ответов)"
   ]
  },
  {
   "cell_type": "code",
   "execution_count": 6,
   "id": "c6efc7e1",
   "metadata": {},
   "outputs": [],
   "source": [
    "from sklearn.metrics import accuracy_score"
   ]
  },
  {
   "cell_type": "markdown",
   "id": "dac75189",
   "metadata": {},
   "source": [
    "Наверное, наиболее интуитивно понятная метрика:\n",
    "\n",
    "$\\displaystyle Accuracy = \\frac{TP + TN}{TN + FN + TP + FP}$\n",
    "\n",
    "(отношение количества верных ответов, по всем классам, к общему количеству объектов)\n",
    "\n",
    "Чуть усложним картинку, чтобы понять верно:\n",
    "\n",
    "![title](./images/03.png)"
   ]
  },
  {
   "cell_type": "markdown",
   "id": "45cdba82",
   "metadata": {},
   "source": [
    "К сожалению - бесполезна при дисбалансе классов. Например, в нашем случае:"
   ]
  },
  {
   "cell_type": "code",
   "execution_count": 7,
   "id": "93c8ca9c",
   "metadata": {},
   "outputs": [
    {
     "name": "stdout",
     "output_type": "stream",
     "text": [
      "Фактическое текущее значение: 0.4\n",
      "Если предсказать только единицы: 0.7\n"
     ]
    }
   ],
   "source": [
    "print('Фактическое текущее значение:', accuracy_score(true, pred))\n",
    "print('Если предсказать только единицы:', accuracy_score(true, np.ones(10)))"
   ]
  },
  {
   "cell_type": "markdown",
   "id": "237af61a",
   "metadata": {},
   "source": [
    "Т.е., если будем сравнивать модели только по этой метрике, та, что предсказала только превалирующий класс - выглядит лучше. Чтобы такого не происходило, стоит смотреть на более продвинутые метрики."
   ]
  },
  {
   "cell_type": "markdown",
   "id": "4a9c69f2",
   "metadata": {},
   "source": [
    "### Precision (точность)"
   ]
  },
  {
   "cell_type": "markdown",
   "id": "de87a0c9",
   "metadata": {},
   "source": [
    "**Precision** можно определить, как соотношение объектов, которые модель посчитала положительными, действительно, оказавшиеся положительными"
   ]
  },
  {
   "cell_type": "code",
   "execution_count": null,
   "id": "cbbee91e",
   "metadata": {},
   "outputs": [],
   "source": []
  },
  {
   "cell_type": "code",
   "execution_count": null,
   "id": "21c4db1a",
   "metadata": {},
   "outputs": [],
   "source": []
  },
  {
   "cell_type": "markdown",
   "id": "ec2b45c2",
   "metadata": {},
   "source": [
    "Precision можно интерпретировать как долю объектов, названных классификатором положительными и при этом действительно являющимися положительными, а recall показывает, какую долю объектов положительного класса из всех объектов положительного класса нашел алгоритм.\n"
   ]
  },
  {
   "cell_type": "markdown",
   "id": "f4762be1",
   "metadata": {},
   "source": [
    "https://towardsdatascience.com/understanding-the-confusion-matrix-from-scikit-learn-c51d88929c79\n",
    "\n",
    "https://habr.com/ru/company/ods/blog/544208/"
   ]
  }
 ],
 "metadata": {
  "hide_input": false,
  "kernelspec": {
   "display_name": "Python 3 (ipykernel)",
   "language": "python",
   "name": "python3"
  },
  "language_info": {
   "codemirror_mode": {
    "name": "ipython",
    "version": 3
   },
   "file_extension": ".py",
   "mimetype": "text/x-python",
   "name": "python",
   "nbconvert_exporter": "python",
   "pygments_lexer": "ipython3",
   "version": "3.9.5"
  },
  "toc": {
   "base_numbering": 1,
   "nav_menu": {},
   "number_sections": false,
   "sideBar": true,
   "skip_h1_title": false,
   "title_cell": "Table of Contents",
   "title_sidebar": "Contents",
   "toc_cell": false,
   "toc_position": {},
   "toc_section_display": true,
   "toc_window_display": false
  },
  "varInspector": {
   "cols": {
    "lenName": 16,
    "lenType": 16,
    "lenVar": 40
   },
   "kernels_config": {
    "python": {
     "delete_cmd_postfix": "",
     "delete_cmd_prefix": "del ",
     "library": "var_list.py",
     "varRefreshCmd": "print(var_dic_list())"
    },
    "r": {
     "delete_cmd_postfix": ") ",
     "delete_cmd_prefix": "rm(",
     "library": "var_list.r",
     "varRefreshCmd": "cat(var_dic_list()) "
    }
   },
   "types_to_exclude": [
    "module",
    "function",
    "builtin_function_or_method",
    "instance",
    "_Feature"
   ],
   "window_display": false
  }
 },
 "nbformat": 4,
 "nbformat_minor": 5
}
