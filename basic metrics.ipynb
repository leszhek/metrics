{
 "cells": [
  {
   "cell_type": "markdown",
   "id": "4cac663d",
   "metadata": {},
   "source": [
    "## Короткая шпаргалка по базовым метрикам классификации"
   ]
  },
  {
   "cell_type": "markdown",
   "id": "fa0d3460",
   "metadata": {},
   "source": [
    "Классифицировать будем вручную. Цель - посмотреть как считаются и что показывают метрики. Так же, попробуем написать свои функции для рассчета метрик.\n",
    "\n",
    "У нас будет 2 списка из 10 значений: \"истинный\" и \"предстказанный\":"
   ]
  },
  {
   "cell_type": "code",
   "execution_count": 1,
   "id": "98d46e07",
   "metadata": {},
   "outputs": [],
   "source": [
    "import numpy as np\n",
    "import pandas as pd"
   ]
  },
  {
   "cell_type": "code",
   "execution_count": 2,
   "id": "67eb12cd",
   "metadata": {},
   "outputs": [
    {
     "name": "stdout",
     "output_type": "stream",
     "text": [
      "true: [0 1 1 0 1 1 1 1 1 1]\n",
      "pred: [1 0 0 1 0 0 0 0 0 1]\n"
     ]
    }
   ],
   "source": [
    "np.random.seed(0)\n",
    "true = np.random.randint(0, 2, 10)\n",
    "pred = np.random.randint(0, 2, 10)\n",
    "\n",
    "print('true:', true)\n",
    "print('pred:', pred)"
   ]
  },
  {
   "cell_type": "markdown",
   "id": "d6fab509",
   "metadata": {},
   "source": [
    "### Confusion matrix"
   ]
  },
  {
   "cell_type": "code",
   "execution_count": 3,
   "id": "3f1e89bf",
   "metadata": {},
   "outputs": [],
   "source": [
    "from sklearn.metrics import confusion_matrix"
   ]
  },
  {
   "cell_type": "markdown",
   "id": "6a583b8b",
   "metadata": {},
   "source": [
    "Это, наверное, основная концепция, которую стоит понять, чтобы хорошо разбираться в метриках, построенных на отношении количества ответов. В примере у нас есть два класса и алгоритм (random 😀), предсказывающий принадлежность каждого объекта одному из классов. Как должна выглядеть матрица ошибок правильно, я не знаю до сих пор 😅, но, чтобы понимать, что стоит за матрицей, которая строится силами sklearn, буду показывать на примере расположения ее осей:"
   ]
  },
  {
   "cell_type": "markdown",
   "id": "85dc0581",
   "metadata": {},
   "source": [
    "![title](./images/01.png)\n",
    "\n",
    "Строки матрицы соответствуют истинным значениям, столбцы - предсказанным. Когда алгоритм относит объект к первому классу, говорим, что он - **срабатывает**. А когда к нулевому классу - **пропускает**. Всвязи с этим, у нас могут возникнуть 4 ситуации:\n",
    "\n",
    "- Алгоритм сработал на объект и предсказал **1**, при этом, истинная метка, тоже **1**. Получаем верное срабатывание **TruePositive** (**TP**).\n",
    "- Алгоритм сработал на объект и предсказал **1**, при этом, истинная метка - **0**. Получаем ложное срабатывание **FalsePositive** (**FP**).\n",
    "- Алгоритм пропустил объект и предсказал **0**, при этом, истинная метка - **1**. Получаем ложный пропуск **FalseNegative** (**FN**).\n",
    "- Алгоритм пропустил объект и предсказал **0**, при этом, истинная метка, тоже **0**. Получаем верный пропуск **TrueNegative** (**TN**).\n",
    "\n",
    "Таким образом, сумма по каждому столбцу отражает предсказанное количество классов, а сумма по каждой строке - фактическое."
   ]
  },
  {
   "cell_type": "markdown",
   "id": "e66102ef",
   "metadata": {},
   "source": [
    "Если мы сейчас соберем наши значения, то получим такую картину:\n",
    "\n",
    "![title](./images/02.png)\n",
    "\n",
    "Логика - простая:"
   ]
  },
  {
   "cell_type": "code",
   "execution_count": 4,
   "id": "e67d98eb",
   "metadata": {},
   "outputs": [
    {
     "name": "stdout",
     "output_type": "stream",
     "text": [
      "true: [0 1 1 0 1 1 1 1 1 1]\n",
      "pred: [1 0 0 1 0 0 0 0 0 1]\n"
     ]
    }
   ],
   "source": [
    "print('true:', true)\n",
    "print('pred:', pred)"
   ]
  },
  {
   "cell_type": "markdown",
   "id": "a0f7181a",
   "metadata": {},
   "source": [
    "- Первая пара: ложный пропуск - **FN**\n",
    "- Вторая пара: верное срабатывание - **TP**\n",
    "- Третья пара: ложное срабатывание - **FP**<br>\n",
    "...<br>\n",
    "- Пятая_ пара: верный пропуск - **TN**\n",
    "\n",
    "Остальное можно разложить в клетки самостоятельно.\n",
    "\n",
    "Ну и, естественно, нет необходимости, каждый раз это все делать вручную. В бибилиотеке sklearn, как я писал выше, есть готовый метод: **confusion_matrix**"
   ]
  },
  {
   "cell_type": "code",
   "execution_count": 5,
   "id": "19731c91",
   "metadata": {},
   "outputs": [
    {
     "data": {
      "text/plain": [
       "array([[0, 2],\n",
       "       [7, 1]])"
      ]
     },
     "execution_count": 5,
     "metadata": {},
     "output_type": "execute_result"
    }
   ],
   "source": [
    "confusion_matrix(true, pred)"
   ]
  },
  {
   "cell_type": "code",
   "execution_count": 6,
   "id": "d34ed602",
   "metadata": {},
   "outputs": [],
   "source": [
    "TN, FP, FN, TP = confusion_matrix(true, pred).ravel()"
   ]
  },
  {
   "cell_type": "markdown",
   "id": "147d6ed2",
   "metadata": {},
   "source": [
    "Как видим, наша матрица и sklearn'овская - совпали. Теперь мы видим, что 5 единичек были приняты нашим алгоритмом за нули, и 1 ноль был принят за единичку. На этой базе и будем считать дальнейшие метрики."
   ]
  },
  {
   "cell_type": "markdown",
   "id": "7355d3c3",
   "metadata": {},
   "source": [
    "### Accuracy (доля верных ответов)"
   ]
  },
  {
   "cell_type": "code",
   "execution_count": 7,
   "id": "c6efc7e1",
   "metadata": {},
   "outputs": [],
   "source": [
    "from sklearn.metrics import accuracy_score"
   ]
  },
  {
   "cell_type": "markdown",
   "id": "dac75189",
   "metadata": {},
   "source": [
    "Наверное, наиболее интуитивно понятная метрика:\n",
    "\n",
    "$\\displaystyle Accuracy = \\frac{TP + TN}{TN + FN + TP + FP}$\n",
    "\n",
    "(отношение количества верных ответов, по всем классам, к общему количеству объектов)\n",
    "\n",
    "Чуть усложним картинку, чтобы понять верно:\n",
    "\n",
    "![title](./images/03.png)"
   ]
  },
  {
   "cell_type": "markdown",
   "id": "45cdba82",
   "metadata": {},
   "source": [
    "К сожалению - бесполезна при дисбалансе классов. Например, в нашем случае:"
   ]
  },
  {
   "cell_type": "code",
   "execution_count": 8,
   "id": "93c8ca9c",
   "metadata": {},
   "outputs": [
    {
     "name": "stdout",
     "output_type": "stream",
     "text": [
      "Ручной расчет: 0.1\n",
      "accuracy_score: 0.1\n",
      "Dummie predict: 0.8\n"
     ]
    }
   ],
   "source": [
    "print('Ручной расчет:', (TP + TN) / (TN + FN + TP + FP))\n",
    "print('accuracy_score:', accuracy_score(true, pred))\n",
    "print('Dummie predict:', accuracy_score(true, np.ones(10)))"
   ]
  },
  {
   "cell_type": "markdown",
   "id": "237af61a",
   "metadata": {},
   "source": [
    "Т.е., если будем сравнивать модели только по этой метрике, та, что предсказана \"дурацким алгоритмом\" - выглядит лучше. Чтобы такого не происходило, стоит смотреть на более продвинутые метрики."
   ]
  },
  {
   "cell_type": "markdown",
   "id": "4a9c69f2",
   "metadata": {},
   "source": [
    "### Precision (точность)"
   ]
  },
  {
   "cell_type": "code",
   "execution_count": 9,
   "id": "e1ff90f1",
   "metadata": {},
   "outputs": [],
   "source": [
    "from sklearn.metrics import precision_score"
   ]
  },
  {
   "cell_type": "markdown",
   "id": "de87a0c9",
   "metadata": {},
   "source": [
    "**Precision** - дает представление о модели с точки зрения ее ложно-положительного срабатывания. Т.е. показывает долю истинных срабатываний от их общего количества.\n",
    "\n",
    "Думаю, формула и картинка - точнее передадут мою мысль:"
   ]
  },
  {
   "cell_type": "markdown",
   "id": "89f30f90",
   "metadata": {},
   "source": [
    "$\\displaystyle Precision = \\frac{TP}{TP + FP}$"
   ]
  },
  {
   "cell_type": "markdown",
   "id": "87e59d27",
   "metadata": {},
   "source": [
    "Если precision на наших данных и сравнить с библиотечной реализацией, получится так:"
   ]
  },
  {
   "cell_type": "code",
   "execution_count": 10,
   "id": "1a8de185",
   "metadata": {},
   "outputs": [
    {
     "name": "stdout",
     "output_type": "stream",
     "text": [
      "Ручной расчет: 0.3333333333333333\n",
      "Precision_score: 0.3333333333333333\n",
      "Dummie predict: 0.8\n"
     ]
    }
   ],
   "source": [
    "print('Ручной расчет:', TP / (TP + FP))\n",
    "print('Precision_score:', precision_score(true, pred))\n",
    "print('Dummie predict:', precision_score(true, np.ones(10)))"
   ]
  },
  {
   "cell_type": "markdown",
   "id": "03a0cbf5",
   "metadata": {},
   "source": [
    "## Recall (полнота)"
   ]
  },
  {
   "cell_type": "code",
   "execution_count": 11,
   "id": "8f57fe82",
   "metadata": {},
   "outputs": [],
   "source": [
    "from sklearn.metrics import recall_score"
   ]
  },
  {
   "cell_type": "markdown",
   "id": "17d4bea4",
   "metadata": {},
   "source": [
    "Можно сказать, что **Recall** - это обратная метрика от Precision (она минимизирует ложные пропуски). Т.е. - показывает долю верно угаданных объектов положительного класса, среди всех объектов положительного класса."
   ]
  },
  {
   "cell_type": "markdown",
   "id": "cf436d95",
   "metadata": {},
   "source": [
    "$\\displaystyle Recall = \\frac{TP}{TP + FN}$"
   ]
  },
  {
   "cell_type": "code",
   "execution_count": 12,
   "id": "5539324a",
   "metadata": {},
   "outputs": [
    {
     "name": "stdout",
     "output_type": "stream",
     "text": [
      "Ручной расчет: 0.125\n",
      "Recall_score: 0.125\n",
      "Dummie predict: 1.0\n"
     ]
    }
   ],
   "source": [
    "print('Ручной расчет:', TP / (TP + FN))\n",
    "print('Recall_score:', recall_score(true, pred))\n",
    "print('Dummie predict:', recall_score(true, np.ones(10)))"
   ]
  },
  {
   "cell_type": "markdown",
   "id": "460acfde",
   "metadata": {},
   "source": [
    "Две эти метрики (*Recall* и *Precision*) тесно связаны, и, зачастую, если отбросить идеальные случаи, при росте одного показателя - портится другой. А значит, ставя задачу и выбирая метрику, нужно понимать, что нам важнее минимизировать - ложные срабатывания или ложные пропуски. "
   ]
  },
  {
   "cell_type": "markdown",
   "id": "5e79c398",
   "metadata": {},
   "source": [
    "### F1_score"
   ]
  },
  {
   "cell_type": "code",
   "execution_count": 13,
   "id": "4d28c927",
   "metadata": {},
   "outputs": [],
   "source": [
    "from sklearn.metrics import f1_score"
   ]
  },
  {
   "cell_type": "markdown",
   "id": "ddf5b36e",
   "metadata": {},
   "source": [
    "\n",
    "\n",
    "есть ничто иное, как гармоническое среднее между **Precision** и **Recall**.\n",
    "\n",
    "$\\displaystyle F1 = \\frac{2}{\\frac{1}{Precision} \\cdot \\frac{1}{Recall}} = 2 \\cdot \\frac{Precision \\cdot Recall}{Precision + Recall}$\n",
    "\n",
    "Или, если оперировать только теми показателями, которые у нас есть:\n",
    "\n",
    "$\\displaystyle F1 = \\frac{TP}{TP + \\frac{FN + FP}{2}}$"
   ]
  },
  {
   "cell_type": "code",
   "execution_count": 14,
   "id": "a323c0a4",
   "metadata": {},
   "outputs": [
    {
     "name": "stdout",
     "output_type": "stream",
     "text": [
      "Ручной расчет: 0.18181818181818182\n",
      "Recall_score: 0.18181818181818182\n",
      "Dummie predict: 0.888888888888889\n"
     ]
    }
   ],
   "source": [
    "print('Ручной расчет:', TP / (TP + ((FN + FP) / 2)))\n",
    "print('Recall_score:', f1_score(true, pred))\n",
    "print('Dummie predict:', f1_score(true, np.ones(10)))"
   ]
  },
  {
   "cell_type": "code",
   "execution_count": null,
   "id": "4fcc34dc",
   "metadata": {},
   "outputs": [],
   "source": []
  },
  {
   "cell_type": "code",
   "execution_count": null,
   "id": "32f7e9c1",
   "metadata": {},
   "outputs": [],
   "source": []
  },
  {
   "cell_type": "code",
   "execution_count": null,
   "id": "71a58833",
   "metadata": {},
   "outputs": [],
   "source": []
  },
  {
   "cell_type": "markdown",
   "id": "ec2b45c2",
   "metadata": {},
   "source": [
    "Precision можно интерпретировать как долю объектов, названных классификатором положительными и при этом действительно являющимися положительными, а recall показывает, какую долю объектов положительного класса из всех объектов положительного класса нашел алгоритм.\n"
   ]
  },
  {
   "cell_type": "markdown",
   "id": "f4762be1",
   "metadata": {},
   "source": [
    "https://towardsdatascience.com/understanding-the-confusion-matrix-from-scikit-learn-c51d88929c79\n",
    "\n",
    "https://habr.com/ru/company/ods/blog/544208/"
   ]
  }
 ],
 "metadata": {
  "hide_input": false,
  "kernelspec": {
   "display_name": "Python 3 (ipykernel)",
   "language": "python",
   "name": "python3"
  },
  "language_info": {
   "codemirror_mode": {
    "name": "ipython",
    "version": 3
   },
   "file_extension": ".py",
   "mimetype": "text/x-python",
   "name": "python",
   "nbconvert_exporter": "python",
   "pygments_lexer": "ipython3",
   "version": "3.9.1"
  },
  "toc": {
   "base_numbering": 1,
   "nav_menu": {},
   "number_sections": false,
   "sideBar": true,
   "skip_h1_title": false,
   "title_cell": "Table of Contents",
   "title_sidebar": "Contents",
   "toc_cell": false,
   "toc_position": {},
   "toc_section_display": true,
   "toc_window_display": false
  },
  "varInspector": {
   "cols": {
    "lenName": 16,
    "lenType": 16,
    "lenVar": 40
   },
   "kernels_config": {
    "python": {
     "delete_cmd_postfix": "",
     "delete_cmd_prefix": "del ",
     "library": "var_list.py",
     "varRefreshCmd": "print(var_dic_list())"
    },
    "r": {
     "delete_cmd_postfix": ") ",
     "delete_cmd_prefix": "rm(",
     "library": "var_list.r",
     "varRefreshCmd": "cat(var_dic_list()) "
    }
   },
   "types_to_exclude": [
    "module",
    "function",
    "builtin_function_or_method",
    "instance",
    "_Feature"
   ],
   "window_display": false
  }
 },
 "nbformat": 4,
 "nbformat_minor": 5
}
