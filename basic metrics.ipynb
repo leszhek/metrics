{
 "cells": [
  {
   "cell_type": "markdown",
   "id": "4cac663d",
   "metadata": {},
   "source": [
    "## Короткая шпаргалка по базовым метрикам классификации"
   ]
  },
  {
   "cell_type": "markdown",
   "id": "fa0d3460",
   "metadata": {},
   "source": [
    "Базовых метрик бинарной классификации - 5:\n",
    "\n",
    "- Accuracy\n",
    "- Precision\n",
    "- Recall\n",
    "- F1_score\n",
    "- Roc_auc\n",
    "\n",
    "И я решил "
   ]
  },
  {
   "cell_type": "code",
   "execution_count": 1,
   "id": "98d46e07",
   "metadata": {},
   "outputs": [],
   "source": [
    "import numpy as np\n",
    "import pandas as pd"
   ]
  },
  {
   "cell_type": "markdown",
   "id": "b7fc865f",
   "metadata": {},
   "source": [
    "Тренироваться я решил на небольших искусственных данных, сравнивая \"предсказания\" **pr_1** и **pr_2** между собой и выявляя проблемы подходов."
   ]
  },
  {
   "cell_type": "code",
   "execution_count": 2,
   "id": "67eb12cd",
   "metadata": {},
   "outputs": [
    {
     "name": "stdout",
     "output_type": "stream",
     "text": [
      "true: [0 0 1 1 0 0 0 1 1 1]\n",
      "pr_1: [0 1 1 1 0 1 1 0 0 0]\n",
      "pr_2: [0 1 1 0 0 0 1 0 0 0]\n"
     ]
    }
   ],
   "source": [
    "np.random.seed(3)\n",
    "true = np.random.randint(0, 2, 10)\n",
    "pr_1 = np.random.randint(0, 2, 10)\n",
    "pr_2 = np.random.randint(0, 2, 10)\n",
    "\n",
    "\n",
    "print('true:', true)\n",
    "print('pr_1:', pr_1)\n",
    "print('pr_2:', pr_2)"
   ]
  },
  {
   "cell_type": "markdown",
   "id": "68a06eb4",
   "metadata": {},
   "source": [
    "Какие проблемы существуют в наших предсказаниях:\n",
    "- Первый классификатор настроен более дружелюбно "
   ]
  },
  {
   "cell_type": "markdown",
   "id": "4e2bdb2f",
   "metadata": {},
   "source": [
    "### Accuracy (доля верных ответов)"
   ]
  },
  {
   "cell_type": "code",
   "execution_count": 3,
   "id": "1280ab77",
   "metadata": {},
   "outputs": [],
   "source": [
    "from sklearn.metrics import accuracy_score"
   ]
  },
  {
   "cell_type": "markdown",
   "id": "5a1db65b",
   "metadata": {},
   "source": [
    "Наверное, наиболее интуитивно понятная метрика:\n",
    "\n",
    "$\\displaystyle Accuracy = \\frac{1}{n} \\sum\\limits_{i=1}^n[y = \\hat{y}]$\n",
    "\n",
    "Т.е.: суммируем колчество верных ответов и делим на полное количество образцов в выборке. В итоге - получаем долю верных ответов. \n",
    "\n",
    "В нашем случае это будет:"
   ]
  },
  {
   "cell_type": "code",
   "execution_count": 4,
   "id": "efa7c1d3",
   "metadata": {},
   "outputs": [
    {
     "name": "stdout",
     "output_type": "stream",
     "text": [
      "Predict pr_1: 0.4\n",
      "Predict pr_2: 0.4\n"
     ]
    }
   ],
   "source": [
    "print('Predict pr_1:', accuracy_score(true, pr_1))\n",
    "print('Predict pr_2:', accuracy_score(true, pr_2))"
   ]
  },
  {
   "cell_type": "markdown",
   "id": "6d4a7bbc",
   "metadata": {},
   "source": [
    "**Accuracy** нам говорит, что модели одинаковы. И, действительно - верных ответов, в обоих случаях, по 4 штуки. И хоть это следует из метрики прямо, все же - нам не известно какого рода ошибки совершили модели и что с чем они перепутали.\n",
    "\n",
    "Метрика хороша для начальной/быстрой оценки модели, подходит для работы со сбалансированными классами и в условиях, где ошибки имеют одинаковый вес."
   ]
  },
  {
   "cell_type": "markdown",
   "id": "d6fab509",
   "metadata": {},
   "source": [
    "### Confusion matrix"
   ]
  },
  {
   "cell_type": "code",
   "execution_count": 5,
   "id": "3f1e89bf",
   "metadata": {},
   "outputs": [],
   "source": [
    "from sklearn.metrics import confusion_matrix"
   ]
  },
  {
   "cell_type": "markdown",
   "id": "6a583b8b",
   "metadata": {},
   "source": [
    "Это, наверное, основная концепция, которую стоит понять, чтобы хорошо разбираться в метриках, построенных на отношении количества ответов. В примере у нас есть два класса и алгоритм, предсказывающий принадлежность каждого объекта одному из них.\n",
    "\n",
    "Как должна выглядеть матрица ошибок в классическом исполнении, я не знаю до сих пор 😅, в разных источниках ее ячейки располагаются по-разному, но, чтобы понимать, что стоит за той, которая строится силами sklearn, буду смотреть на примере расположения именно ее осей:"
   ]
  },
  {
   "cell_type": "markdown",
   "id": "85dc0581",
   "metadata": {},
   "source": [
    "![title](./images/01.png)\n",
    "\n",
    "Строки матрицы соответствуют истинным значениям, столбцы - предсказанным. Когда алгоритм относит объект к первому классу, считается, что он - **срабатывает** на значение, а когда к нулевому классу - **пропускает**. На пересечении этих ячеек и ведем подсчет количества срабатываний/пропусков, сравнивая предсказания с фактическими значениями.\n",
    "\n",
    "Всвязи с этим, у нас могут возникнуть 4 ситуации:\n",
    "\n",
    "- Алгоритм сработал на объект и предсказал **1**, при этом, истинная метка, тоже **1**. Получаем верное срабатывание **TruePositive** (**TP**).\n",
    "- Алгоритм сработал на объект и предсказал **1**, при этом, истинная метка - **0**. Получаем ложное срабатывание **FalsePositive** (**FP**).\n",
    "- Алгоритм пропустил объект и предсказал **0**, при этом, истинная метка - **1**. Получаем ложный пропуск **FalseNegative** (**FN**).\n",
    "- Алгоритм пропустил объект и предсказал **0**, при этом, истинная метка, тоже **0**. Получаем верный пропуск **TrueNegative** (**TN**).\n",
    "\n",
    "В итоговой матрице, сумма по каждому столбцу отражает предсказанное количество объектов в классое, а сумма по каждой строке - фактическое."
   ]
  },
  {
   "cell_type": "markdown",
   "id": "e66102ef",
   "metadata": {},
   "source": [
    "Если мы сейчас соберем наши значения, то получим такую картину:\n",
    "\n",
    "![title](./images/02.png)\n",
    "\n",
    "Логика - простая (на примере pr_1):"
   ]
  },
  {
   "cell_type": "code",
   "execution_count": 6,
   "id": "e67d98eb",
   "metadata": {},
   "outputs": [
    {
     "name": "stdout",
     "output_type": "stream",
     "text": [
      "true: [0 0 1 1 0 0 0 1 1 1]\n",
      "pr_1: [0 1 1 1 0 1 1 0 0 0]\n"
     ]
    }
   ],
   "source": [
    "print('true:', true)\n",
    "print('pr_1:', pr_1)"
   ]
  },
  {
   "cell_type": "markdown",
   "id": "a0f7181a",
   "metadata": {},
   "source": [
    "- Первая пара: истиный пропуск - **TN**\n",
    "- Вторая пара: ложное срабатывание - **FP**\n",
    "- Третья пара: истиное срабатывание - **TP**<br>\n",
    "...<br>\n",
    "- Правая пара: ложный пропуск - **FN**\n",
    "\n",
    "Остальное раскладывается аналогично и считаем значения в каждой ячейке."
   ]
  },
  {
   "cell_type": "code",
   "execution_count": 7,
   "id": "19731c91",
   "metadata": {},
   "outputs": [
    {
     "name": "stdout",
     "output_type": "stream",
     "text": [
      "[[2 3]\n",
      " [3 2]] pr_1\n",
      "\n",
      "[[3 2]\n",
      " [4 1]] pr_2\n"
     ]
    }
   ],
   "source": [
    "TN_1, FP_1, FN_1, TP_1 = confusion_matrix(true, pr_1).ravel()\n",
    "TN_2, FP_2, FN_2, TP_2 = confusion_matrix(true, pr_2).ravel()\n",
    "\n",
    "print(confusion_matrix(true, pr_1), 'pr_1')\n",
    "print()\n",
    "print(confusion_matrix(true, pr_2), 'pr_2')"
   ]
  },
  {
   "cell_type": "markdown",
   "id": "147d6ed2",
   "metadata": {},
   "source": [
    "Как видим, наша матрица и sklearn'овская - совпали. \n",
    "\n",
    "И, более того, теперь мы видим, где ошибались наши модели: первая модель - 3 единички приняла за нолик, и 3 нолика - за единичку, а вторая - 4 единички за нолик и 2 нолика - за единичку.\n",
    "\n",
    "Кстати, в текущей парадигме, метрику **Accuracy** можно переписать так:\n",
    "\n",
    "$\\displaystyle Accuracy = \\frac{TP + TN}{TN + FN + TP + FP}$\n",
    "\n",
    "Чуть усложним картинку, чтобы понять верно:\n",
    "\n",
    "![title](./images/03.png)"
   ]
  },
  {
   "cell_type": "markdown",
   "id": "4a9c69f2",
   "metadata": {},
   "source": [
    "### Precision (точность)"
   ]
  },
  {
   "cell_type": "code",
   "execution_count": 8,
   "id": "e1ff90f1",
   "metadata": {},
   "outputs": [],
   "source": [
    "from sklearn.metrics import precision_score"
   ]
  },
  {
   "cell_type": "markdown",
   "id": "de87a0c9",
   "metadata": {},
   "source": [
    "**Precision** рассчитывается по формуле:"
   ]
  },
  {
   "cell_type": "markdown",
   "id": "89f30f90",
   "metadata": {},
   "source": [
    "$\\displaystyle Precision = \\frac{TP}{TP + FP}$"
   ]
  },
  {
   "cell_type": "markdown",
   "id": "87e59d27",
   "metadata": {},
   "source": [
    "Дает представление о модели с точки зрения ее ложно-положительного срабатывания. Т.е. показывает долю истинных срабатываний от их общего количества.\n",
    "\n",
    "Если precision на наших данных и сравнить с библиотечной реализацией, получится так:"
   ]
  },
  {
   "cell_type": "code",
   "execution_count": 9,
   "id": "1a8de185",
   "metadata": {},
   "outputs": [
    {
     "name": "stdout",
     "output_type": "stream",
     "text": [
      "Ручной pr_1: 0.4\n",
      "Metric pr_1: 0.4\n",
      "\n",
      "Ручной pr_2: 0.3333333333333333\n",
      "Metric pr_1: 0.3333333333333333\n"
     ]
    }
   ],
   "source": [
    "print('Ручной pr_1:', TP_1 / (TP_1 + FP_1))\n",
    "print('Metric pr_1:', precision_score(true, pr_1))\n",
    "print()\n",
    "print('Ручной pr_2:', TP_2 / (TP_2 + FP_2))\n",
    "print('Metric pr_1:', precision_score(true, pr_2))"
   ]
  },
  {
   "attachments": {
    "04.png": {
     "image/png": "[encoded data removed]"
    }
   },
   "cell_type": "markdown",
   "id": "4f9f1acb",
   "metadata": {},
   "source": [
    "![04.png](attachment:04.png)"
   ]
  },
  {
   "cell_type": "markdown",
   "id": "d9edac01",
   "metadata": {},
   "source": [
    "Как видим, теперь - модели по-разному выглядят с точки зрения метрик. Как раз потому, что метрика считает отношение срабатываний. Так, в первом случае, из пяти срабатываний, 2 оказались верными. А, вот вторая модель - из трех срабатываний, угадала ответ только один раз."
   ]
  },
  {
   "cell_type": "markdown",
   "id": "03a0cbf5",
   "metadata": {},
   "source": [
    "## Recall (полнота)"
   ]
  },
  {
   "cell_type": "code",
   "execution_count": 10,
   "id": "8f57fe82",
   "metadata": {},
   "outputs": [],
   "source": [
    "from sklearn.metrics import recall_score"
   ]
  },
  {
   "cell_type": "markdown",
   "id": "17d4bea4",
   "metadata": {},
   "source": [
    "Формула **Recall** выглядит так:"
   ]
  },
  {
   "cell_type": "markdown",
   "id": "cf436d95",
   "metadata": {},
   "source": [
    "$\\displaystyle Recall = \\frac{TP}{TP + FN}$"
   ]
  },
  {
   "cell_type": "markdown",
   "id": "8c98461b",
   "metadata": {},
   "source": [
    "Можно сказать, что это - обратная метрика к Precision (она минимизирует ложные пропуски). Т.е. - показывает долю верно угаданных объектов положительного класса, среди всех объектов положительного класса."
   ]
  },
  {
   "cell_type": "code",
   "execution_count": 11,
   "id": "868f11c2",
   "metadata": {},
   "outputs": [
    {
     "name": "stdout",
     "output_type": "stream",
     "text": [
      "Ручной pr_1: 0.4\n",
      "Metric pr_1: 0.4\n",
      "\n",
      "Ручной pr_2: 0.2\n",
      "Metric pr_1: 0.2\n"
     ]
    }
   ],
   "source": [
    "print('Ручной pr_1:', TP_1 / (TP_1 + FN_1))\n",
    "print('Metric pr_1:', recall_score(true, pr_1))\n",
    "print()\n",
    "print('Ручной pr_2:', TP_2 / (TP_2 + FN_2))\n",
    "print('Metric pr_1:', recall_score(true, pr_2))"
   ]
  },
  {
   "cell_type": "markdown",
   "id": "9bb8cb91",
   "metadata": {},
   "source": [
    "И снова - модели разнятся. Первая модель, из пяти истинных единичек, угадала две, а вторая - только 1."
   ]
  },
  {
   "cell_type": "markdown",
   "id": "34a4aace",
   "metadata": {},
   "source": [
    "![title](./images/05.png)"
   ]
  },
  {
   "cell_type": "markdown",
   "id": "460acfde",
   "metadata": {},
   "source": [
    "Хорошо, посмотрели мы на две метрики, а какую же модель, в итоге, выбрать?\n",
    "\n",
    "На самом деле, обе эти метрики (*Recall* и *Precision*) тесно связаны, и, зачастую, после пересечения некоего балансового порога, при при росте одного показателя - портится другой. Но что поможет найти этот баланс?"
   ]
  },
  {
   "cell_type": "markdown",
   "id": "5e79c398",
   "metadata": {},
   "source": [
    "### F1_score"
   ]
  },
  {
   "cell_type": "code",
   "execution_count": 12,
   "id": "4d28c927",
   "metadata": {},
   "outputs": [],
   "source": [
    "from sklearn.metrics import f1_score"
   ]
  },
  {
   "cell_type": "markdown",
   "id": "ddf5b36e",
   "metadata": {},
   "source": [
    "Эта метрика, есть ничто иное, как гармоническое среднее между **Precision** и **Recall**. Она позволяет привести обе метрики к скалярной величине, на которую можно ориентироваться при подборе параметров или сравнивать с метрикой другой модели. Формула, по которой считается эта метрика выглядит так:.\n",
    "\n",
    "$\\displaystyle F1 = \\frac{2}{\\frac{1}{Precision} \\cdot \\frac{1}{Recall}} = 2 \\cdot \\frac{Precision \\cdot Recall}{Precision + Recall}$\n",
    "\n",
    "Или, если оперировать только теми показателями, которые у нас есть:\n",
    "\n",
    "$\\displaystyle F1 = \\frac{TP}{TP + \\frac{FN + FP}{2}}$"
   ]
  },
  {
   "cell_type": "code",
   "execution_count": 15,
   "id": "34dd9bfc",
   "metadata": {},
   "outputs": [
    {
     "name": "stdout",
     "output_type": "stream",
     "text": [
      "Ручной pr_1: 0.4\n",
      "Metric pr_1: 0.4000000000000001\n",
      "\n",
      "Ручной pr_1: 0.25\n",
      "Metric pr_1: 0.25\n"
     ]
    }
   ],
   "source": [
    "print('Ручной pr_1:', TP_1 / (TP_1 + ((FN_1 + FP_1) / 2)))\n",
    "print('Metric pr_1:', f1_score(true, pr_1))\n",
    "print()\n",
    "print('Ручной pr_1:', TP_2 / (TP_2 + ((FN_2 + FP_2) / 2)))\n",
    "print('Metric pr_1:', f1_score(true, pr_2))"
   ]
  },
  {
   "cell_type": "markdown",
   "id": "ea92cc53",
   "metadata": {},
   "source": [
    "И вот теперь, сравнивая модели, нам нужно понять, что от нас требует бизнес-задача - минимизировать ложные срабатывания, или ложные пропуски. Туда и будем тянуть модель 🙂"
   ]
  },
  {
   "cell_type": "markdown",
   "id": "2c823a72",
   "metadata": {},
   "source": []
  },
  {
   "cell_type": "code",
   "execution_count": null,
   "id": "71a58833",
   "metadata": {},
   "outputs": [],
   "source": []
  },
  {
   "cell_type": "markdown",
   "id": "ec2b45c2",
   "metadata": {},
   "source": [
    "Precision можно интерпретировать как долю объектов, названных классификатором положительными и при этом действительно являющимися положительными, а recall показывает, какую долю объектов положительного класса из всех объектов положительного класса нашел алгоритм.\n"
   ]
  },
  {
   "cell_type": "markdown",
   "id": "f4762be1",
   "metadata": {},
   "source": [
    "https://towardsdatascience.com/understanding-the-confusion-matrix-from-scikit-learn-c51d88929c79\n",
    "\n",
    "https://habr.com/ru/company/ods/blog/544208/"
   ]
  }
 ],
 "metadata": {
  "hide_input": false,
  "kernelspec": {
   "display_name": "Python 3 (ipykernel)",
   "language": "python",
   "name": "python3"
  },
  "language_info": {
   "codemirror_mode": {
    "name": "ipython",
    "version": 3
   },
   "file_extension": ".py",
   "mimetype": "text/x-python",
   "name": "python",
   "nbconvert_exporter": "python",
   "pygments_lexer": "ipython3",
   "version": "3.9.5"
  },
  "toc": {
   "base_numbering": 1,
   "nav_menu": {},
   "number_sections": false,
   "sideBar": true,
   "skip_h1_title": false,
   "title_cell": "Table of Contents",
   "title_sidebar": "Contents",
   "toc_cell": false,
   "toc_position": {},
   "toc_section_display": true,
   "toc_window_display": false
  },
  "varInspector": {
   "cols": {
    "lenName": 16,
    "lenType": 16,
    "lenVar": 40
   },
   "kernels_config": {
    "python": {
     "delete_cmd_postfix": "",
     "delete_cmd_prefix": "del ",
     "library": "var_list.py",
     "varRefreshCmd": "print(var_dic_list())"
    },
    "r": {
     "delete_cmd_postfix": ") ",
     "delete_cmd_prefix": "rm(",
     "library": "var_list.r",
     "varRefreshCmd": "cat(var_dic_list()) "
    }
   },
   "types_to_exclude": [
    "module",
    "function",
    "builtin_function_or_method",
    "instance",
    "_Feature"
   ],
   "window_display": false
  }
 },
 "nbformat": 4,
 "nbformat_minor": 5
}
